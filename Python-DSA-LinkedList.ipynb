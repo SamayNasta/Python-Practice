{
 "cells": [
  {
   "cell_type": "code",
   "execution_count": 5,
   "metadata": {},
   "outputs": [
    {
     "name": "stdout",
     "output_type": "stream",
     "text": [
      "10-->55-->100-->154-->"
     ]
    }
   ],
   "source": [
    "class Node :\n",
    "    def __init__(self,data,next=None):\n",
    "        self.data = data\n",
    "        self.next = next\n",
    "\n",
    "class Linkedlist:\n",
    "    def __init__(self):\n",
    "        self.head = None\n",
    "    \n",
    "    def is_empty(self):\n",
    "        if self.head == None:\n",
    "            return True\n",
    "        else:\n",
    "            return False\n",
    "        \n",
    "    \n",
    "    def insert_end(self,data):\n",
    "        node1 = Node(data,None)\n",
    "        if self.is_empty():\n",
    "            self.head = node1\n",
    "            return\n",
    "        \n",
    "        itr = self.head\n",
    "        while itr.next:\n",
    "            itr = itr.next\n",
    "        itr.next = node1\n",
    "    \n",
    "    def insert_after(self,key,value):\n",
    "        itr=self.head\n",
    "        \n",
    "        while itr.data!=key:\n",
    "            itr=itr.next\n",
    "        node1 = Node(value,itr.next)\n",
    "        itr.next = node1\n",
    "        \n",
    "        \n",
    "    def print_list(self):\n",
    "        if self.is_empty():\n",
    "            print(\"List is empty\")\n",
    "            return\n",
    "        itr = self.head\n",
    "        while itr:\n",
    "            print(str(itr.data)+\"-->\",end='')\n",
    "            itr=itr.next\n",
    "            \n",
    "        \n",
    "        \n",
    "if __name__ == '__main__':\n",
    "    l1 = Linkedlist()\n",
    "    l1.insert_end(10)\n",
    "    l1.insert_end(154)\n",
    "    #1.print_list()\n",
    "    l1.insert_after(10,55)\n",
    "    l1.insert_after(55,100)\n",
    "    l1.print_list()"
   ]
  },
  {
   "cell_type": "code",
   "execution_count": null,
   "metadata": {},
   "outputs": [],
   "source": []
  }
 ],
 "metadata": {
  "kernelspec": {
   "display_name": "Python 3",
   "language": "python",
   "name": "python3"
  },
  "language_info": {
   "codemirror_mode": {
    "name": "ipython",
    "version": 3
   },
   "file_extension": ".py",
   "mimetype": "text/x-python",
   "name": "python",
   "nbconvert_exporter": "python",
   "pygments_lexer": "ipython3",
   "version": "3.8.5"
  }
 },
 "nbformat": 4,
 "nbformat_minor": 4
}
